{
 "cells": [
  {
   "cell_type": "markdown",
   "id": "dcbce986",
   "metadata": {},
   "source": [
    "# Solution description\n",
    "\n",
    "1) Normalize data $x$, $y$ of train, valid and test curves.\n",
    "\n",
    "2) Prepare 200-dimensional fasttext emeddings for words.\n",
    "\n",
    "3) Train model (some convs + Bi-LSTM + Attention) to predict similar (cosine distance) embeddings to the fasttext ones.\n",
    "\n",
    "4) For each curve embedding in valid/test dataset, select the most similar word embedding."
   ]
  },
  {
   "cell_type": "markdown",
   "id": "409c36ee",
   "metadata": {},
   "source": [
    "### Prepare words embedding model"
   ]
  },
  {
   "cell_type": "code",
   "execution_count": 1,
   "id": "713d95cc",
   "metadata": {},
   "outputs": [
    {
     "name": "stderr",
     "output_type": "stream",
     "text": [
      "/mnt/disk2-part1/envs/neuroswipe/lib/python3.7/site-packages/tqdm/auto.py:21: TqdmWarning: IProgress not found. Please update jupyter and ipywidgets. See https://ipywidgets.readthedocs.io/en/stable/user_install.html\n",
      "  from .autonotebook import tqdm as notebook_tqdm\n"
     ]
    },
    {
     "name": "stdout",
     "output_type": "stream",
     "text": [
      "File exists. Use --overwrite to download anyway.\n"
     ]
    },
    {
     "name": "stderr",
     "output_type": "stream",
     "text": [
      "Warning : `load_model` does not return WordVectorModel or SupervisedModel any more, but a `FastText` object which is very similar.\n"
     ]
    }
   ],
   "source": [
    "from neuroswipe.utils import prepare_embedding_model\n",
    "\n",
    "prepare_embedding_model()"
   ]
  },
  {
   "cell_type": "markdown",
   "id": "9e12e332",
   "metadata": {},
   "source": [
    "### Prepare dataset"
   ]
  },
  {
   "cell_type": "code",
   "execution_count": 1,
   "id": "eff21375",
   "metadata": {},
   "outputs": [
    {
     "name": "stderr",
     "output_type": "stream",
     "text": [
      "/mnt/disk2-part1/envs/neuroswipe/lib/python3.7/site-packages/tqdm/auto.py:21: TqdmWarning: IProgress not found. Please update jupyter and ipywidgets. See https://ipywidgets.readthedocs.io/en/stable/user_install.html\n",
      "  from .autonotebook import tqdm as notebook_tqdm\n",
      "Warning : `load_model` does not return WordVectorModel or SupervisedModel any more, but a `FastText` object which is very similar.\n",
      "100%|████████████████████████████████████████████████████████████████| 6000000/6000000.0 [3:41:13<00:00, 452.05it/s]\n"
     ]
    }
   ],
   "source": [
    "from neuroswipe.utils import prepare_dataset\n",
    "\n",
    "prepare_dataset()"
   ]
  },
  {
   "cell_type": "markdown",
   "id": "b2ac9489",
   "metadata": {},
   "source": [
    "### Train model"
   ]
  },
  {
   "cell_type": "code",
   "execution_count": null,
   "id": "85653b69",
   "metadata": {},
   "outputs": [],
   "source": [
    "!python neuroswipe/main.py --config neuroswipe/configs/model.yaml --logdir results/model --gpu=0,1,2,3"
   ]
  },
  {
   "cell_type": "markdown",
   "id": "3ea74a30",
   "metadata": {},
   "source": [
    "### Prepare vocabulary"
   ]
  },
  {
   "cell_type": "code",
   "execution_count": 1,
   "id": "55d2ce38",
   "metadata": {},
   "outputs": [
    {
     "name": "stderr",
     "output_type": "stream",
     "text": [
      "/mnt/disk2-part1/envs/neuroswipe/lib/python3.7/site-packages/tqdm/auto.py:21: TqdmWarning: IProgress not found. Please update jupyter and ipywidgets. See https://ipywidgets.readthedocs.io/en/stable/user_install.html\n",
      "  from .autonotebook import tqdm as notebook_tqdm\n",
      "100%|████████████████████████████████████████████████████████████████| 6000000/6000000.0 [05:50<00:00, 17115.96it/s]\n"
     ]
    }
   ],
   "source": [
    "from neuroswipe.utils import prepare_vocabulary\n",
    "\n",
    "prepare_vocabulary()"
   ]
  },
  {
   "cell_type": "markdown",
   "id": "92837db4",
   "metadata": {},
   "source": [
    "### Prepare vocabulary words embeddings"
   ]
  },
  {
   "cell_type": "code",
   "execution_count": 2,
   "id": "70f0cecd",
   "metadata": {},
   "outputs": [
    {
     "name": "stderr",
     "output_type": "stream",
     "text": [
      "Warning : `load_model` does not return WordVectorModel or SupervisedModel any more, but a `FastText` object which is very similar.\n",
      "100%|████████████████████████████████████████████████████████████████████| 153067/153067 [00:09<00:00, 16189.56it/s]\n"
     ]
    }
   ],
   "source": [
    "from neuroswipe.utils import prepare_voc_embeddings\n",
    "\n",
    "prepare_voc_embeddings()"
   ]
  },
  {
   "cell_type": "markdown",
   "id": "07e52d76",
   "metadata": {},
   "source": [
    "### Prepare prediction"
   ]
  },
  {
   "cell_type": "code",
   "execution_count": 1,
   "id": "db6aac71",
   "metadata": {},
   "outputs": [
    {
     "name": "stderr",
     "output_type": "stream",
     "text": [
      "/mnt/disk2-part1/envs/neuroswipe/lib/python3.7/site-packages/tqdm/auto.py:21: TqdmWarning: IProgress not found. Please update jupyter and ipywidgets. See https://ipywidgets.readthedocs.io/en/stable/user_install.html\n",
      "  from .autonotebook import tqdm as notebook_tqdm\n",
      "10000it [01:29, 111.61it/s]\n",
      "100%|███████████████████████████████████████████████████████████████████████████████████████████████████████████████████████████████████| 10000/10000 [39:47<00:00,  4.19it/s]\n"
     ]
    }
   ],
   "source": [
    "import torch\n",
    "from neuroswipe.utils import prepare_prediction\n",
    "\n",
    "model = torch.load('/mnt/disk2-part1/valentin/yacup/neuroswipe/results/model/version_0/model.ckpt', map_location=\"cpu\")\n",
    "prepare_prediction('./submission.csv', model=model, data_type=\"valid\")"
   ]
  },
  {
   "cell_type": "markdown",
   "id": "016bdea7",
   "metadata": {},
   "source": [
    "### Evaluate prediction (validation only)"
   ]
  },
  {
   "cell_type": "code",
   "execution_count": 1,
   "id": "1735927c",
   "metadata": {},
   "outputs": [
    {
     "name": "stderr",
     "output_type": "stream",
     "text": [
      "/mnt/disk2-part1/envs/neuroswipe/lib/python3.7/site-packages/tqdm/auto.py:21: TqdmWarning: IProgress not found. Please update jupyter and ipywidgets. See https://ipywidgets.readthedocs.io/en/stable/user_install.html\n",
      "  from .autonotebook import tqdm as notebook_tqdm\n",
      "100%|███████████████████████████████████████████████████████████████████████| 10000/10000 [00:01<00:00, 6693.72it/s]"
     ]
    },
    {
     "name": "stdout",
     "output_type": "stream",
     "text": [
      "0.792622\n"
     ]
    },
    {
     "name": "stderr",
     "output_type": "stream",
     "text": [
      "\n"
     ]
    }
   ],
   "source": [
    "from neuroswipe.utils import calculate_mrr\n",
    "\n",
    "calculate_mrr('./submission.csv')"
   ]
  },
  {
   "cell_type": "code",
   "execution_count": null,
   "id": "a6222aaf",
   "metadata": {},
   "outputs": [],
   "source": []
  }
 ],
 "metadata": {
  "kernelspec": {
   "display_name": "Python 3 (ipykernel)",
   "language": "python",
   "name": "python3"
  },
  "language_info": {
   "codemirror_mode": {
    "name": "ipython",
    "version": 3
   },
   "file_extension": ".py",
   "mimetype": "text/x-python",
   "name": "python",
   "nbconvert_exporter": "python",
   "pygments_lexer": "ipython3",
   "version": "3.7.13"
  }
 },
 "nbformat": 4,
 "nbformat_minor": 5
}
